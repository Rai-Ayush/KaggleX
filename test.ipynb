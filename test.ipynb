{
 "cells": [
  {
   "cell_type": "markdown",
   "metadata": {},
   "source": [
    "Here all preprocessing and transformations are done to test data..taking inspiration and insights from the train data file...🌿🍉\n"
   ]
  },
  {
   "cell_type": "code",
   "execution_count": 1,
   "metadata": {},
   "outputs": [],
   "source": [
    "import numpy as np\n",
    "import pandas as pd"
   ]
  },
  {
   "cell_type": "code",
   "execution_count": 16,
   "metadata": {},
   "outputs": [],
   "source": [
    "dt=pd.read_csv('test.csv')\n",
    "dt=dt.drop(columns=['clean_title'])"
   ]
  },
  {
   "cell_type": "code",
   "execution_count": 15,
   "metadata": {},
   "outputs": [
    {
     "data": {
      "text/plain": [
       "array(['White', 'Silver', 'Blue', 'other', 'Black', 'Gray'], dtype=object)"
      ]
     },
     "execution_count": 15,
     "metadata": {},
     "output_type": "execute_result"
    }
   ],
   "source": [
    "x=dt.fuel_type\n",
    "x.replace('Gasoline',0,inplace=True)\n",
    "x.replace('Hybrid',1,inplace=True)\n",
    "x.replace('E85 Flex Fuel',2,inplace=True)\n",
    "x.replace('Diesel',3,inplace=True)\n",
    "x.replace(['Plug-In Hybrid','–','not supported'],4,inplace=True)\n",
    "dt=dt.drop(columns=['fuel_type'])\n",
    "dt=dt.join(x)\n",
    "req_transmit=dt.transmission.value_counts().head(7).index\n",
    "x=dt.transmission\n",
    "for i in x:\n",
    "    if i not in req_transmit:\n",
    "        x.replace(i,'other',inplace=True)\n",
    "dt=dt.drop(columns=['transmission'])\n",
    "dt=dt.join(x)\n",
    "dt.transmission.unique()\n",
    "req_int=dt.int_col.value_counts().head(6).index\n",
    "x=dt.int_col\n",
    "for i in x:\n",
    "    if i not in req_int:\n",
    "        x.replace(i,'other',inplace=True)\n",
    "dt=dt.drop(columns=['int_col'])\n",
    "dt=dt.join(x)\n",
    "req_ext=dt.ext_col.value_counts().head(6).index\n",
    "x=dt.ext_col\n",
    "for i in x:\n",
    "    if i not in req_ext:\n",
    "        x.replace(i,'other',inplace=True)\n",
    "dt=dt.drop(columns=['ext_col'])\n",
    "dt=dt.join(x)\n",
    "dt.ext_col.unique()"
   ]
  }
 ],
 "metadata": {
  "kernelspec": {
   "display_name": "Python 3",
   "language": "python",
   "name": "python3"
  },
  "language_info": {
   "codemirror_mode": {
    "name": "ipython",
    "version": 3
   },
   "file_extension": ".py",
   "mimetype": "text/x-python",
   "name": "python",
   "nbconvert_exporter": "python",
   "pygments_lexer": "ipython3",
   "version": "3.11.0"
  }
 },
 "nbformat": 4,
 "nbformat_minor": 2
}
